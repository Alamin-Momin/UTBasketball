{
 "cells": [
  {
   "cell_type": "code",
   "execution_count": 3,
   "metadata": {},
   "outputs": [
    {
     "name": "stdout",
     "output_type": "stream",
     "text": [
      "435.0\n",
      "\n",
      "485.0\n",
      "\n",
      "499.9999999999999\n",
      "\n",
      "520.0000000000001\n",
      "\n",
      "580.0\n",
      "\n",
      "599.9999999999999\n",
      "\n",
      "599.9999999999999\n",
      "\n",
      "605.0\n",
      "\n",
      "695.0000000000001\n",
      "\n",
      "815.0000000000001\n",
      "\n"
     ]
    }
   ],
   "source": [
    "def calc(a):\n",
    "    for elem in a:\n",
    "        elem = elem / 10\n",
    "        elem -= 40\n",
    "        print(elem*50 + 110)\n",
    "        print()\n",
    "\n",
    "def main():\n",
    "    calc([465, 475, 478, 482, 494, 498, 498, 499, 517, 541])\n",
    "main()"
   ]
  },
  {
   "cell_type": "code",
   "execution_count": 8,
   "metadata": {},
   "outputs": [
    {
     "name": "stdout",
     "output_type": "stream",
     "text": [
      "815.0000000000001\n"
     ]
    }
   ],
   "source": []
  },
  {
   "cell_type": "code",
   "execution_count": null,
   "metadata": {},
   "outputs": [],
   "source": []
  }
 ],
 "metadata": {
  "kernelspec": {
   "display_name": "Python 3",
   "language": "python",
   "name": "python3"
  },
  "language_info": {
   "codemirror_mode": {
    "name": "ipython",
    "version": 3
   },
   "file_extension": ".py",
   "mimetype": "text/x-python",
   "name": "python",
   "nbconvert_exporter": "python",
   "pygments_lexer": "ipython3",
   "version": "3.7.4"
  }
 },
 "nbformat": 4,
 "nbformat_minor": 2
}
